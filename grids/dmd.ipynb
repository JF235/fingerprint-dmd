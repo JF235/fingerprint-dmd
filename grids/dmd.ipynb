{
 "cells": [
  {
   "cell_type": "code",
   "execution_count": null,
   "id": "e7a79e1c",
   "metadata": {},
   "outputs": [],
   "source": [
    "%load_ext autoreload\n",
    "%autoreload 2"
   ]
  },
  {
   "cell_type": "code",
   "execution_count": null,
   "id": "389df8ee",
   "metadata": {},
   "outputs": [],
   "source": [
    "import torch\n",
    "from tqdm import tqdm\n",
    "import numpy as np\n",
    "import matplotlib.pyplot as plt\n",
    "from matplotlib.patches import ConnectionPatch\n",
    "import pickle as pkl\n",
    "\n",
    "from dmd_api import DmdExtractor, DmdMatcher\n",
    "import dmd_utils as dmdu"
   ]
  },
  {
   "cell_type": "markdown",
   "id": "b7a42bc9",
   "metadata": {},
   "source": [
    "# Dados"
   ]
  },
  {
   "cell_type": "code",
   "execution_count": null,
   "id": "155fcc91",
   "metadata": {},
   "outputs": [],
   "source": [
    "# Example\n",
    "img, mnt = dmdu.load_dmd_format('../datasets/sd258.pkl', item_id=1)\n",
    "dmdu.plot_mnt(img, mnt, text=True)"
   ]
  },
  {
   "cell_type": "code",
   "execution_count": null,
   "id": "6c5d6be1",
   "metadata": {},
   "outputs": [],
   "source": [
    "total = len(dmdu.FNAMES)\n",
    "print(f'Total number of samples: {total}')\n",
    "all_idx = list(range(total))\n",
    "\n",
    "queries_idx = [i for i in all_idx if i % 2 == 0]\n",
    "gallery_idx = [i for i in all_idx if i % 2 == 1]\n",
    "\n",
    "query_imgs, query_mnts = [], []\n",
    "for i in tqdm(queries_idx):\n",
    "    img, mnt = dmdu.load_dmd_format('../datasets/sd258.pkl', i)\n",
    "    query_imgs.append(img)\n",
    "    query_mnts.append(mnt)\n",
    "\n",
    "gallery_imgs, gallery_mnts = [], []\n",
    "for i in tqdm(gallery_idx):\n",
    "    img, mnt = dmdu.load_dmd_format('../datasets/sd258.pkl', i)\n",
    "    gallery_imgs.append(img)\n",
    "    gallery_mnts.append(mnt)"
   ]
  },
  {
   "cell_type": "markdown",
   "id": "d8a10d0d",
   "metadata": {},
   "source": [
    "# Extração"
   ]
  },
  {
   "cell_type": "code",
   "execution_count": null,
   "id": "4c605ca7",
   "metadata": {},
   "outputs": [],
   "source": [
    "device = 'cuda' if torch.cuda.is_available() else 'cpu'\n",
    "extractor = DmdExtractor('../logs/DMD++/best_model.pth.tar', device=device)\n",
    "\n",
    "EXTRACT = False\n",
    "\n",
    "if EXTRACT:\n",
    "    # Extract templates\n",
    "    query_templates = []\n",
    "    for img, mnt in tqdm(zip(query_imgs, query_mnts), total=len(query_imgs)):\n",
    "        template = extractor.extract(img, mnt)\n",
    "        query_templates.append(template)\n",
    "\n",
    "    gallery_templates = []\n",
    "    for img, mnt in tqdm(zip(gallery_imgs, gallery_mnts), total=len(gallery_imgs)):\n",
    "        template = extractor.extract(img, mnt)\n",
    "        gallery_templates.append(template)\n",
    "\n",
    "    # Save templates\n",
    "    with open('query_templates.pkl', 'wb') as f:\n",
    "        pkl.dump(query_templates, f)\n",
    "    with open('gallery_templates.pkl', 'wb') as f:\n",
    "        pkl.dump(gallery_templates, f)\n",
    "else:\n",
    "    # Load templates\n",
    "    with open('query_templates.pkl', 'rb') as f:\n",
    "        query_templates = pkl.load(f)\n",
    "    with open('gallery_templates.pkl', 'rb') as f:\n",
    "        gallery_templates = pkl.load(f)"
   ]
  },
  {
   "cell_type": "markdown",
   "id": "de823981",
   "metadata": {},
   "source": [
    "# Identificação"
   ]
  },
  {
   "cell_type": "code",
   "execution_count": null,
   "id": "1da9ce05",
   "metadata": {},
   "outputs": [],
   "source": [
    "CACHED = True\n",
    "if CACHED:\n",
    "    scores = np.load('scores.npy')\n",
    "else:\n",
    "    matcher = DmdMatcher()\n",
    "    scores = matcher.identify(query_templates, gallery_templates)\n",
    "\n",
    "    np.save('scores.npy', scores)"
   ]
  },
  {
   "cell_type": "code",
   "execution_count": null,
   "id": "18d6ef04",
   "metadata": {},
   "outputs": [],
   "source": [
    "plt.imshow(scores, cmap='hot')\n",
    "plt.ylim((0, 50))"
   ]
  },
  {
   "cell_type": "markdown",
   "id": "1b779af1",
   "metadata": {},
   "source": [
    "# Avaliação"
   ]
  },
  {
   "cell_type": "code",
   "execution_count": null,
   "id": "ead33dbe",
   "metadata": {},
   "outputs": [],
   "source": [
    "def get_cmc(scores, max_rank=50):\n",
    "    num_q, num_g = scores.shape\n",
    "    assert num_q <= num_g, \"Number of queries should be less than or equal to number of gallery samples\"\n",
    "    \n",
    "    error_cases = []\n",
    "    cmc = np.zeros(max_rank)\n",
    "    for i in range(num_q):\n",
    "        # Get the indices that would sort the scores in descending order\n",
    "        sorted_indices = np.argsort(-scores[i])\n",
    "        \n",
    "        # Note: Assuming the correct match is at the same index as the query\n",
    "        correct_index = i\n",
    "        rank = np.where(sorted_indices == correct_index)[0][0]\n",
    "        if rank < max_rank:\n",
    "            cmc[rank:] += 1\n",
    "        \n",
    "        if rank + 1 > 1:\n",
    "            # Store the error case: query_idx, gallery_true_idx, gallery_predicted_idx, rank\n",
    "            error_cases.append({\n",
    "                'query_idx': i,\n",
    "                'gallery_true_idx': correct_index,\n",
    "                'gallery_predicted_idx': sorted_indices[0],\n",
    "                'rank': rank + 1\n",
    "            })\n",
    "\n",
    "    \n",
    "    cmc = cmc / num_q\n",
    "    # Sort by rank\n",
    "    error_cases = sorted(error_cases, key=lambda x: x['rank'])\n",
    "    return cmc, error_cases\n",
    "\n",
    "def plot_cmc(cmc):\n",
    "    cmc = cmc * 100  # Convert to percentage\n",
    "    plt.figure()\n",
    "    plt.plot(np.arange(1, len(cmc) + 1), cmc)\n",
    "\n",
    "    # Important ranks to highlight\n",
    "    important_ranks = [1, 5, 10, 20]\n",
    "    for rank in important_ranks:\n",
    "        if rank <= len(cmc):\n",
    "            plt.plot(rank, cmc[rank - 1], 'xr')  # Highlight with red dot\n",
    "            plt.text(rank, cmc[rank - 1], f'Rank-{rank}: {cmc[rank - 1]:.2f}', fontsize=9, verticalalignment='bottom')\n",
    "    plt.xlabel('Rank')\n",
    "    plt.ylabel('Matching Rate')\n",
    "    plt.title('CMC Curve')\n",
    "    plt.grid(True)\n",
    "    plt.show()\n",
    "\n",
    "cmc, error_cases = get_cmc(scores, max_rank=256)\n",
    "print(f'Misses: {len(error_cases)}')\n",
    "plot_cmc(cmc)"
   ]
  },
  {
   "cell_type": "markdown",
   "id": "32ef7d23",
   "metadata": {},
   "source": [
    "# Visualização"
   ]
  },
  {
   "cell_type": "code",
   "execution_count": null,
   "id": "76819cb4",
   "metadata": {},
   "outputs": [],
   "source": [
    "def plot_minutiae_matches(imagem_query, imagem_gallery, template_query, template_gallery, pairs, max_score=10):\n",
    "    # 1. Configura a figura e os eixos\n",
    "    fig, (ax1, ax2) = plt.subplots(1, 2, figsize=(15, 7))\n",
    "\n",
    "    # 2. Exibe as imagens\n",
    "    ax1.imshow(imagem_query, cmap='gray')\n",
    "    ax1.set_title('Query')\n",
    "    ax1.axis('off')\n",
    "\n",
    "    ax2.imshow(imagem_gallery, cmap='gray')\n",
    "    ax2.set_title('Gallery')\n",
    "    ax2.axis('off')\n",
    "\n",
    "    # 3. Extrai as coordenadas das minúcias dos templates\n",
    "    # Converte de tensor PyTorch (1, N, 3) para array numpy (N, 3)\n",
    "    query_mnt = template_query['mnt'].squeeze(0).cpu().numpy()\n",
    "    gallery_mnt = template_gallery['mnt'].squeeze(0).cpu().numpy()\n",
    "\n",
    "    # 4. Prepara o mapa de cores se os scores forem fornecidos\n",
    "    use_color_map = False\n",
    "    if pairs and len(pairs[0]) == 3:\n",
    "        use_color_map = True\n",
    "        scores = [p[0] for p in pairs]\n",
    "        #min_s, max_s = min(scores), max(scores)\n",
    "        min_s, max_s = np.min(scores), np.max(scores)\n",
    "        cmap = plt.get_cmap('viridis')\n",
    "        \n",
    "        # Adiciona uma legenda de barra de cores\n",
    "        norm = plt.Normalize(vmin=min_s, vmax=max_s)\n",
    "        sm = plt.cm.ScalarMappable(cmap=cmap, norm=norm)\n",
    "        fig.colorbar(sm, ax=[ax1, ax2], orientation='vertical', label='Score da Correspondência', shrink=0.8)\n",
    "\n",
    "    # 5. Itera sobre os pares e desenha as linhas de conexão\n",
    "    for pair in pairs:\n",
    "        if use_color_map:\n",
    "            score, idx_q, idx_g = pair\n",
    "            # Normaliza o score para o intervalo [0, 1] para o mapa de cores\n",
    "            norm_score = (score - min_s) / (max_s - min_s + 1e-6) # Evita divisão por zero\n",
    "            color = cmap(norm_score)\n",
    "        else:\n",
    "            idx_q, idx_g = pair\n",
    "            color = 'green' # Cor padrão se não houver score\n",
    "\n",
    "        # Pega as coordenadas (x, y) de cada minúcia\n",
    "        start_point = query_mnt[idx_q][:2]\n",
    "        end_point = gallery_mnt[idx_g][:2]\n",
    "\n",
    "        # Cria e adiciona o ConnectionPatch à figura\n",
    "        con = ConnectionPatch(\n",
    "            xyA=end_point,\n",
    "            xyB=start_point,\n",
    "            coordsA=ax2.transData,\n",
    "            coordsB=ax1.transData,\n",
    "            color=color,\n",
    "            linewidth=1,\n",
    "            alpha=norm_score\n",
    "        )\n",
    "        fig.add_artist(con)\n",
    "        \n",
    "        # Opcional: desenha círculos nas minúcias correspondentes\n",
    "        ax1.plot(start_point[0], start_point[1], 'o', markerfacecolor=color, markeredgecolor='white', markersize=5)\n",
    "        ax2.plot(end_point[0], end_point[1], 'o', markerfacecolor=color, markeredgecolor='white', markersize=5)"
   ]
  },
  {
   "cell_type": "code",
   "execution_count": null,
   "id": "7bade145",
   "metadata": {},
   "outputs": [],
   "source": [
    "for ec in error_cases:\n",
    "    print(f\"Query idx: {ec['query_idx']}, Gallery true idx: {ec['gallery_true_idx']}, Gallery predicted idx: {ec['gallery_predicted_idx']}, Rank: {ec['rank']}\")"
   ]
  },
  {
   "cell_type": "code",
   "execution_count": null,
   "id": "8242f748",
   "metadata": {},
   "outputs": [],
   "source": [
    "# Error cases\n",
    "\n",
    "eidx = 20  # Change this index to visualize different error cases\n",
    "q_idx = error_cases[eidx]['query_idx']\n",
    "g_idx = error_cases[eidx]['gallery_true_idx']  # True match\n",
    "g_idx = error_cases[eidx]['gallery_predicted_idx'] # False match\n",
    "\n",
    "query_img = query_imgs[q_idx]\n",
    "gallery_img = gallery_imgs[g_idx]\n",
    "query_templ = query_templates[q_idx]\n",
    "gallery_templ = gallery_templates[g_idx]\n",
    "\n",
    "final_score, pairs, scores_i, scores_f, sorted_indices, n_pair = dmdu.match_with_details(query_templ, gallery_templ)\n",
    "\n",
    "pairs, scores_i, scores_f = pairs.squeeze(0), scores_i.squeeze(0), scores_f.squeeze(0)\n",
    "sorted_indices, n_pair = sorted_indices.squeeze(0), n_pair.squeeze(0)"
   ]
  },
  {
   "cell_type": "code",
   "execution_count": null,
   "id": "3a772042",
   "metadata": {},
   "outputs": [],
   "source": [
    "plot_pairs_i = []\n",
    "plot_pairs_f = []\n",
    "plot_pairs_s = [] # The true selected pairs\n",
    "for pair, score_i, score_f in zip(pairs, scores_i, scores_f):\n",
    "    plot_pairs_i.append((score_i, *pair))\n",
    "    plot_pairs_f.append((score_f, *pair))\n",
    "\n",
    "for i in sorted_indices[:n_pair]:\n",
    "    pair = pairs[i]\n",
    "    score_f = scores_f[i]\n",
    "    plot_pairs_s.append((score_f, *pair))\n",
    "\n",
    "plot_minutiae_matches(\n",
    "    imagem_query=query_img,\n",
    "    imagem_gallery=gallery_img,\n",
    "    template_query=query_templ,\n",
    "    template_gallery=gallery_templ,\n",
    "    pairs=plot_pairs_i,\n",
    ")\n",
    "plot_minutiae_matches(\n",
    "    imagem_query=query_img,\n",
    "    imagem_gallery=gallery_img,\n",
    "    template_query=query_templ,\n",
    "    template_gallery=gallery_templ,\n",
    "    pairs=plot_pairs_f,\n",
    ")\n",
    "\n",
    "# Select the final selected pairs\n",
    "plot_minutiae_matches(\n",
    "    imagem_query=query_img,\n",
    "    imagem_gallery=gallery_img,\n",
    "    template_query=query_templ,\n",
    "    template_gallery=gallery_templ,\n",
    "    pairs=plot_pairs_s,\n",
    ")\n",
    "plt.suptitle(f'Query idx: {q_idx}, Gallery idx: {g_idx}, Final Score: {float(final_score):.2f}', fontsize=16)"
   ]
  },
  {
   "cell_type": "code",
   "execution_count": null,
   "id": "28de704c",
   "metadata": {},
   "outputs": [],
   "source": []
  }
 ],
 "metadata": {
  "kernelspec": {
   "display_name": "grids",
   "language": "python",
   "name": "python3"
  },
  "language_info": {
   "codemirror_mode": {
    "name": "ipython",
    "version": 3
   },
   "file_extension": ".py",
   "mimetype": "text/x-python",
   "name": "python",
   "nbconvert_exporter": "python",
   "pygments_lexer": "ipython3",
   "version": "3.12.11"
  }
 },
 "nbformat": 4,
 "nbformat_minor": 5
}
